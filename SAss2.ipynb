{
 "cells": [
  {
   "cell_type": "code",
   "execution_count": 3,
   "id": "c6646d9c-b75d-4c2b-b935-e1b8ec83d832",
   "metadata": {},
   "outputs": [
    {
     "name": "stdout",
     "output_type": "stream",
     "text": [
      "Mean Sales for Region A: 11.8\n",
      "Mean Sales for Region B: 20.2\n"
     ]
    }
   ],
   "source": [
    "# ANS-1\n",
    "def calculate_mean_sales(region_data):\n",
    "    total_sales = sum(region_data)\n",
    "    num_sales = len(region_data)\n",
    "    mean_sales = total_sales / num_sales\n",
    "    return mean_sales\n",
    "\n",
    "# Given sales data for Region A and Region B\n",
    "region_a_sales = [10, 15, 12, 8, 14]\n",
    "region_b_sales = [18, 20, 16, 22, 25]\n",
    "\n",
    "# Calculate the mean sales for each region\n",
    "mean_sales_region_a = calculate_mean_sales(region_a_sales)\n",
    "mean_sales_region_b = calculate_mean_sales(region_b_sales)\n",
    "\n",
    "# Display the results\n",
    "print(\"Mean Sales for Region A:\", mean_sales_region_a)\n",
    "print(\"Mean Sales for Region B:\", mean_sales_region_b)\n"
   ]
  },
  {
   "cell_type": "code",
   "execution_count": 6,
   "id": "f0bfed97-0267-474e-9763-088a769f748f",
   "metadata": {},
   "outputs": [
    {
     "name": "stdout",
     "output_type": "stream",
     "text": [
      "Mode of the survey responses: 4\n"
     ]
    }
   ],
   "source": [
    "# ANS-2\n",
    "def calculate_mode(data):\n",
    "    # Create a dictionary to store the frequency of each value in the data\n",
    "    frequency_dict = {}\n",
    "    for value in data:\n",
    "        if value in frequency_dict:\n",
    "            frequency_dict[value] += 1\n",
    "        else:\n",
    "            frequency_dict[value] = 1\n",
    "\n",
    "    # Find the mode (the value with the highest frequency)\n",
    "    mode = max(frequency_dict, key=frequency_dict.get)\n",
    "    return mode\n",
    "\n",
    "# Given survey responses data\n",
    "survey_responses = [4, 5, 2, 3, 5, 4, 3, 2, 4, 5]\n",
    "\n",
    "# Calculate the mode of the survey responses\n",
    "mode_survey_responses = calculate_mode(survey_responses)\n",
    "\n",
    "# Display the result\n",
    "print(\"Mode of the survey responses:\", mode_survey_responses)\n"
   ]
  },
  {
   "cell_type": "code",
   "execution_count": 5,
   "id": "0cc77225-cef3-4c27-8223-66cb03ca47e1",
   "metadata": {},
   "outputs": [
    {
     "name": "stdout",
     "output_type": "stream",
     "text": [
      "Median Salary for Department A: 5750.0\n",
      "Median Salary for Department B: 5500\n"
     ]
    }
   ],
   "source": [
    "# ANS-3\n",
    "def calculate_median_salary(salary_data):\n",
    "    sorted_data = sorted(salary_data)\n",
    "    num_salaries = len(sorted_data)\n",
    "\n",
    "    if num_salaries % 2 == 0:\n",
    "        middle_index = num_salaries // 2\n",
    "        median_salary = (sorted_data[middle_index - 1] + sorted_data[middle_index]) / 2\n",
    "    else:\n",
    "        middle_index = num_salaries // 2\n",
    "        median_salary = sorted_data[middle_index]\n",
    "\n",
    "    return median_salary\n",
    "\n",
    "# Given salary data for Department A and Department B\n",
    "department_a_salaries = [5000, 6000, 5500, 7000]\n",
    "department_b_salaries = [4500, 5500, 5800, 6000, 5200]\n",
    "\n",
    "# Calculate the median salary for each department\n",
    "median_salary_department_a = calculate_median_salary(department_a_salaries)\n",
    "median_salary_department_b = calculate_median_salary(department_b_salaries)\n",
    "\n",
    "# Display the results\n",
    "print(\"Median Salary for Department A:\", median_salary_department_a)\n",
    "print(\"Median Salary for Department B:\", median_salary_department_b)\n"
   ]
  },
  {
   "cell_type": "code",
   "execution_count": 7,
   "id": "e2cbfa74-5a5b-486c-a070-54d925d0c25a",
   "metadata": {},
   "outputs": [
    {
     "name": "stdout",
     "output_type": "stream",
     "text": [
      "Range of the stock prices: 1.3000000000000007\n"
     ]
    }
   ],
   "source": [
    "# ANS-FOUR\n",
    "def calculate_range(data):\n",
    "    data_range = max(data) - min(data)\n",
    "    return data_range\n",
    "\n",
    "# Given daily stock prices data\n",
    "stock_prices = [25.5, 24.8, 26.1, 25.3, 24.9]\n",
    "\n",
    "# Calculate the range of the stock prices\n",
    "range_stock_prices = calculate_range(stock_prices)\n",
    "\n",
    "# Display the result\n",
    "print(\"Range of the stock prices:\", range_stock_prices)\n"
   ]
  },
  {
   "cell_type": "code",
   "execution_count": 8,
   "id": "c9ce14a3-fead-4bfd-8d9c-9a76acf72e81",
   "metadata": {},
   "outputs": [
    {
     "name": "stdout",
     "output_type": "stream",
     "text": [
      "T-statistic: 1.4312528946642733\n",
      "P-value: 0.19023970239078333\n"
     ]
    }
   ],
   "source": [
    "# 5\n",
    "import scipy.stats as stats\n",
    "\n",
    "def perform_t_test(group_a_scores, group_b_scores):\n",
    "    # Perform an independent two-sample t-test\n",
    "    t_statistic, p_value = stats.ttest_ind(group_a_scores, group_b_scores)\n",
    "\n",
    "    return t_statistic, p_value\n",
    "\n",
    "# Given test scores for Group A and Group B\n",
    "group_a_scores = [85, 90, 92, 88, 91]\n",
    "group_b_scores = [82, 88, 90, 86, 87]\n",
    "\n",
    "# Perform the t-test\n",
    "t_stat, p_value = perform_t_test(group_a_scores, group_b_scores)\n",
    "\n",
    "# Display the results\n",
    "print(\"T-statistic:\", t_stat)\n",
    "print(\"P-value:\", p_value)\n"
   ]
  },
  {
   "cell_type": "code",
   "execution_count": 9,
   "id": "2190be6c-91c3-43dd-8672-5dfe9a6e2af5",
   "metadata": {},
   "outputs": [
    {
     "name": "stdout",
     "output_type": "stream",
     "text": [
      "Correlation Coefficient: 0.8757511375750132\n"
     ]
    }
   ],
   "source": [
    "# 6\n",
    "import numpy as np\n",
    "\n",
    "def calculate_correlation_coefficient(x, y):\n",
    "    # Calculate the correlation coefficient\n",
    "    correlation_coefficient = np.corrcoef(x, y)[0, 1]\n",
    "\n",
    "    return correlation_coefficient\n",
    "\n",
    "# Given data for advertising expenditure and sales\n",
    "advertising_expenditure = [10, 15, 12, 8, 14]\n",
    "sales = [25, 30, 28, 20, 26]\n",
    "\n",
    "# Calculate the correlation coefficient\n",
    "correlation_coefficient = calculate_correlation_coefficient(advertising_expenditure, sales)\n",
    "\n",
    "# Display the result\n",
    "print(\"Correlation Coefficient:\", correlation_coefficient)\n"
   ]
  },
  {
   "cell_type": "code",
   "execution_count": null,
   "id": "cfcaeec2-4ed6-43ae-934a-6b41af933704",
   "metadata": {},
   "outputs": [],
   "source": [
    "7"
   ]
  },
  {
   "cell_type": "code",
   "execution_count": 10,
   "id": "92c8a8db-b785-4b8a-9da7-98dbc7df1f55",
   "metadata": {},
   "outputs": [
    {
     "name": "stdout",
     "output_type": "stream",
     "text": [
      "Standard Deviation of Heights: 7.953949089757174\n"
     ]
    }
   ],
   "source": [
    "import math\n",
    "\n",
    "def calculate_standard_deviation(data):\n",
    "    # Calculate the mean (average) of the data\n",
    "    mean_height = sum(data) / len(data)\n",
    "\n",
    "    # Calculate the squared differences from the mean\n",
    "    squared_diff_sum = sum((x - mean_height) ** 2 for x in data)\n",
    "\n",
    "    # Calculate the variance\n",
    "    variance = squared_diff_sum / len(data)\n",
    "\n",
    "    # Calculate the standard deviation\n",
    "    standard_deviation = math.sqrt(variance)\n",
    "\n",
    "    return standard_deviation\n",
    "\n",
    "# Given height data\n",
    "height_data = [160, 170, 165, 155, 175, 180, 170]\n",
    "\n",
    "# Calculate the standard deviation of the heights\n",
    "std_deviation_heights = calculate_standard_deviation(height_data)\n",
    "\n",
    "# Display the result\n",
    "print(\"Standard Deviation of Heights:\", std_deviation_heights)\n"
   ]
  },
  {
   "cell_type": "code",
   "execution_count": 11,
   "id": "ad58b183-db7c-4b38-8784-55ab4b81d11a",
   "metadata": {},
   "outputs": [
    {
     "data": {
      "text/plain": [
       "8"
      ]
     },
     "execution_count": 11,
     "metadata": {},
     "output_type": "execute_result"
    }
   ],
   "source": [
    "8"
   ]
  },
  {
   "cell_type": "code",
   "execution_count": 12,
   "id": "21b180d2-27f1-4758-b54d-786d57b585d7",
   "metadata": {},
   "outputs": [
    {
     "name": "stdout",
     "output_type": "stream",
     "text": [
      "Slope (Regression Coefficient): -0.4680851063829787\n",
      "Intercept: 8.595744680851062\n",
      "R-value (Correlation Coefficient): -0.520573376708331\n",
      "P-value: 0.23095550952297988\n",
      "Standard Error: 0.34333860006713723\n"
     ]
    }
   ],
   "source": [
    "import numpy as np\n",
    "import scipy.stats as stats\n",
    "\n",
    "def perform_linear_regression(x, y):\n",
    "    # Perform linear regression analysis\n",
    "    slope, intercept, r_value, p_value, std_err = stats.linregress(x, y)\n",
    "\n",
    "    return slope, intercept, r_value, p_value, std_err\n",
    "\n",
    "# Given data for employee tenure and job satisfaction\n",
    "employee_tenure = [2, 3, 5, 4, 6, 2, 4]\n",
    "job_satisfaction = [7, 8, 6, 9, 5, 7, 6]\n",
    "\n",
    "# Perform linear regression analysis\n",
    "slope, intercept, r_value, p_value, std_err = perform_linear_regression(employee_tenure, job_satisfaction)\n",
    "\n",
    "# Display the results\n",
    "print(\"Slope (Regression Coefficient):\", slope)\n",
    "print(\"Intercept:\", intercept)\n",
    "print(\"R-value (Correlation Coefficient):\", r_value)\n",
    "print(\"P-value:\", p_value)\n",
    "print(\"Standard Error:\", std_err)\n"
   ]
  },
  {
   "cell_type": "code",
   "execution_count": 13,
   "id": "e554a505-62ce-4a00-9cc6-595d1934a578",
   "metadata": {},
   "outputs": [
    {
     "data": {
      "text/plain": [
       "9"
      ]
     },
     "execution_count": 13,
     "metadata": {},
     "output_type": "execute_result"
    }
   ],
   "source": [
    "9"
   ]
  },
  {
   "cell_type": "code",
   "execution_count": 14,
   "id": "a128ee1f-7fce-4812-8549-2d90d58116fc",
   "metadata": {},
   "outputs": [
    {
     "name": "stdout",
     "output_type": "stream",
     "text": [
      "F-statistic: 16.0\n",
      "P-value: 0.003949772803445326\n"
     ]
    }
   ],
   "source": [
    "import scipy.stats as stats\n",
    "\n",
    "def perform_anova(group_a_data, group_b_data):\n",
    "    # Perform one-way ANOVA\n",
    "    f_statistic, p_value = stats.f_oneway(group_a_data, group_b_data)\n",
    "\n",
    "    return f_statistic, p_value\n",
    "\n",
    "# Given recovery times data for Medication A and Medication B\n",
    "medication_a_recovery_times = [10, 12, 14, 11, 13]\n",
    "medication_b_recovery_times = [15, 17, 16, 14, 18]\n",
    "\n",
    "# Perform the ANOVA\n",
    "f_stat, p_value = perform_anova(medication_a_recovery_times, medication_b_recovery_times)\n",
    "\n",
    "# Display the results\n",
    "print(\"F-statistic:\", f_stat)\n",
    "print(\"P-value:\", p_value)\n"
   ]
  },
  {
   "cell_type": "code",
   "execution_count": 15,
   "id": "5bbdd7ad-aee4-43e1-b4de-3ebf2ba3e65f",
   "metadata": {},
   "outputs": [
    {
     "data": {
      "text/plain": [
       "10"
      ]
     },
     "execution_count": 15,
     "metadata": {},
     "output_type": "execute_result"
    }
   ],
   "source": [
    "10"
   ]
  },
  {
   "cell_type": "code",
   "execution_count": 16,
   "id": "a3e0827b-ec5f-460c-871d-4523c50602ea",
   "metadata": {},
   "outputs": [
    {
     "name": "stdout",
     "output_type": "stream",
     "text": [
      "75th Percentile of Feedback Ratings: 9\n"
     ]
    }
   ],
   "source": [
    "import numpy as np\n",
    "\n",
    "def calculate_percentile(data, percentile):\n",
    "    # Sort the data in ascending order\n",
    "    sorted_data = np.sort(data)\n",
    "\n",
    "    # Calculate the index corresponding to the desired percentile\n",
    "    index = int(percentile * len(sorted_data) / 100)\n",
    "\n",
    "    # Calculate the percentile value\n",
    "    percentile_value = sorted_data[index]\n",
    "\n",
    "    return percentile_value\n",
    "\n",
    "# Given feedback ratings data\n",
    "feedback_ratings = [8, 9, 7, 6, 8, 10, 9, 8, 7, 8]\n",
    "\n",
    "# Calculate the 75th percentile of the feedback ratings\n",
    "seventy_fifth_percentile = calculate_percentile(feedback_ratings, 75)\n",
    "\n",
    "# Display the result\n",
    "print(\"75th Percentile of Feedback Ratings:\", seventy_fifth_percentile)\n"
   ]
  },
  {
   "cell_type": "code",
   "execution_count": 17,
   "id": "de02ea5f-d936-47d1-9cb1-dd0d8735b99d",
   "metadata": {},
   "outputs": [
    {
     "data": {
      "text/plain": [
       "11"
      ]
     },
     "execution_count": 17,
     "metadata": {},
     "output_type": "execute_result"
    }
   ],
   "source": [
    "11"
   ]
  },
  {
   "cell_type": "code",
   "execution_count": 18,
   "id": "1afee095-9482-4f48-b812-23ec7ad0ffd0",
   "metadata": {},
   "outputs": [
    {
     "name": "stdout",
     "output_type": "stream",
     "text": [
      "T-statistic: 1.5126584522688367\n",
      "P-value: 0.19077595151110102\n"
     ]
    }
   ],
   "source": [
    "import numpy as np\n",
    "import scipy.stats as stats\n",
    "\n",
    "def perform_one_sample_t_test(data, population_mean):\n",
    "    # Perform one-sample t-test\n",
    "    t_statistic, p_value = stats.ttest_1samp(data, population_mean)\n",
    "\n",
    "    return t_statistic, p_value\n",
    "\n",
    "# Given weight data for the sample of products\n",
    "weight_data = [10.2, 9.8, 10.0, 10.5, 10.3, 10.1]\n",
    "\n",
    "# Population mean (known value)\n",
    "population_mean = 10.0\n",
    "\n",
    "# Perform the one-sample t-test\n",
    "t_stat, p_value = perform_one_sample_t_test(weight_data, population_mean)\n",
    "\n",
    "# Display the results\n",
    "print(\"T-statistic:\", t_stat)\n",
    "print(\"P-value:\", p_value)\n"
   ]
  },
  {
   "cell_type": "code",
   "execution_count": 19,
   "id": "5199d6f0-ad68-4073-af77-a80b7d419c54",
   "metadata": {},
   "outputs": [
    {
     "data": {
      "text/plain": [
       "12"
      ]
     },
     "execution_count": 19,
     "metadata": {},
     "output_type": "execute_result"
    }
   ],
   "source": [
    "12"
   ]
  },
  {
   "cell_type": "code",
   "execution_count": 20,
   "id": "214c4b2a-8992-4c7a-9582-14f0109f971d",
   "metadata": {},
   "outputs": [
    {
     "name": "stdout",
     "output_type": "stream",
     "text": [
      "Chi-square Statistic: [2.22222222 5.97560976 2.         0.13513514 0.12820513]\n",
      "P-value: [0.13603713 0.01450507 0.15729921 0.71316606 0.72030033]\n"
     ]
    }
   ],
   "source": [
    "import numpy as np\n",
    "import scipy.stats as stats\n",
    "\n",
    "def perform_chi_square_test(observed_values):\n",
    "    # Perform chi-square test\n",
    "    chi2, p_value = stats.chisquare(observed_values)\n",
    "\n",
    "    return chi2, p_value\n",
    "\n",
    "# Given click-through rates data for Design A and Design B\n",
    "clicks_design_a = [100, 120, 110, 90, 95]\n",
    "clicks_design_b = [80, 85, 90, 95, 100]\n",
    "\n",
    "# Create an observed values array for the chi-square test\n",
    "observed_values = np.array([clicks_design_a, clicks_design_b])\n",
    "\n",
    "# Perform the chi-square test\n",
    "chi2_stat, p_value = perform_chi_square_test(observed_values)\n",
    "\n",
    "# Display the results\n",
    "print(\"Chi-square Statistic:\", chi2_stat)\n",
    "print(\"P-value:\", p_value)\n"
   ]
  },
  {
   "cell_type": "code",
   "execution_count": 21,
   "id": "726a6e08-3720-4e9e-a3cb-f03575f6c515",
   "metadata": {},
   "outputs": [
    {
     "data": {
      "text/plain": [
       "13"
      ]
     },
     "execution_count": 21,
     "metadata": {},
     "output_type": "execute_result"
    }
   ],
   "source": [
    "13"
   ]
  },
  {
   "cell_type": "code",
   "execution_count": 22,
   "id": "645fe5b6-65ec-4c01-ad10-cda3f13e8139",
   "metadata": {},
   "outputs": [
    {
     "name": "stdout",
     "output_type": "stream",
     "text": [
      "95% Confidence Interval: (7.043561120599888, 8.756438879400113)\n"
     ]
    }
   ],
   "source": [
    "import numpy as np\n",
    "import scipy.stats as stats\n",
    "\n",
    "def calculate_confidence_interval(data, confidence_level=0.95):\n",
    "    # Calculate the sample mean and standard error\n",
    "    sample_mean = np.mean(data)\n",
    "    standard_error = stats.sem(data)\n",
    "\n",
    "    # Calculate the degrees of freedom\n",
    "    degrees_of_freedom = len(data) - 1\n",
    "\n",
    "    # Calculate the t-score for the given confidence level\n",
    "    t_score = stats.t.ppf((1 + confidence_level) / 2, degrees_of_freedom)\n",
    "\n",
    "    # Calculate the confidence interval\n",
    "    lower_bound = sample_mean - t_score * standard_error\n",
    "    upper_bound = sample_mean + t_score * standard_error\n",
    "\n",
    "    return (lower_bound, upper_bound)\n",
    "\n",
    "# Given customer satisfaction data\n",
    "satisfaction_scores = [7, 9, 6, 8, 10, 7, 8, 9, 7, 8]\n",
    "\n",
    "# Calculate the 95% confidence interval for the population mean satisfaction score\n",
    "confidence_interval = calculate_confidence_interval(satisfaction_scores)\n",
    "\n",
    "# Display the result\n",
    "print(\"95% Confidence Interval:\", confidence_interval)\n"
   ]
  },
  {
   "cell_type": "code",
   "execution_count": 23,
   "id": "278e1a65-6e8a-4db6-8d40-965427c63bfb",
   "metadata": {},
   "outputs": [
    {
     "name": "stdout",
     "output_type": "stream",
     "text": [
      "Slope (Regression Coefficient): 0.5\n",
      "Intercept: -2.9000000000000004\n",
      "R-value (Correlation Coefficient): 0.6933752452815364\n",
      "P-value: 0.19417134561205843\n",
      "Standard Error: 0.30000000000000004\n"
     ]
    }
   ],
   "source": [
    "import numpy as np\n",
    "import scipy.stats as stats\n",
    "\n",
    "def perform_simple_linear_regression(x, y):\n",
    "    # Perform simple linear regression\n",
    "    slope, intercept, r_value, p_value, std_err = stats.linregress(x, y)\n",
    "\n",
    "    return slope, intercept, r_value, p_value, std_err\n",
    "\n",
    "# Given temperature data and performance data\n",
    "temperature = [20, 22, 23, 19, 21]\n",
    "performance = [8, 7, 9, 6, 8]\n",
    "\n",
    "# Perform simple linear regression\n",
    "slope, intercept, r_value, p_value, std_err = perform_simple_linear_regression(temperature, performance)\n",
    "\n",
    "# Display the results\n",
    "print(\"Slope (Regression Coefficient):\", slope)\n",
    "print(\"Intercept:\", intercept)\n",
    "print(\"R-value (Correlation Coefficient):\", r_value)\n",
    "print(\"P-value:\", p_value)\n",
    "print(\"Standard Error:\", std_err)\n"
   ]
  },
  {
   "cell_type": "code",
   "execution_count": 24,
   "id": "1091176c-d35f-4cf3-87bd-98c3e5fc52d6",
   "metadata": {},
   "outputs": [
    {
     "data": {
      "text/plain": [
       "15"
      ]
     },
     "execution_count": 24,
     "metadata": {},
     "output_type": "execute_result"
    }
   ],
   "source": [
    "15"
   ]
  },
  {
   "cell_type": "code",
   "execution_count": 25,
   "id": "5ea78904-a255-4df9-aaf6-e8fdeb42c322",
   "metadata": {},
   "outputs": [
    {
     "name": "stdout",
     "output_type": "stream",
     "text": [
      "Mann-Whitney U Statistic: 17.0\n",
      "P-value: 0.380836480306712\n"
     ]
    }
   ],
   "source": [
    "import numpy as np\n",
    "import scipy.stats as stats\n",
    "\n",
    "def perform_mann_whitney_u_test(group_a_data, group_b_data):\n",
    "    # Perform Mann-Whitney U test\n",
    "    u_statistic, p_value = stats.mannwhitneyu(group_a_data, group_b_data, alternative='two-sided')\n",
    "\n",
    "    return u_statistic, p_value\n",
    "\n",
    "# Given preference data for Group A and Group B\n",
    "group_a_preferences = [4, 3, 5, 2, 4]\n",
    "group_b_preferences = [3, 2, 4, 3, 3]\n",
    "\n",
    "# Perform the Mann-Whitney U test\n",
    "u_stat, p_value = perform_mann_whitney_u_test(group_a_preferences, group_b_preferences)\n",
    "\n",
    "# Display the results\n",
    "print(\"Mann-Whitney U Statistic:\", u_stat)\n",
    "print(\"P-value:\", p_value)\n"
   ]
  },
  {
   "cell_type": "code",
   "execution_count": 26,
   "id": "60965daa-8791-4516-9894-6d0f0e12ec41",
   "metadata": {},
   "outputs": [
    {
     "data": {
      "text/plain": [
       "16"
      ]
     },
     "execution_count": 26,
     "metadata": {},
     "output_type": "execute_result"
    }
   ],
   "source": [
    "16"
   ]
  },
  {
   "cell_type": "code",
   "execution_count": 27,
   "id": "677161fc-9079-4ca0-ae41-b4f97ffe1c26",
   "metadata": {},
   "outputs": [
    {
     "name": "stdout",
     "output_type": "stream",
     "text": [
      "Interquartile Range (IQR) of Ages: 22.5\n"
     ]
    }
   ],
   "source": [
    "import numpy as np\n",
    "\n",
    "def calculate_iqr(data):\n",
    "    # Calculate the first quartile (Q1)\n",
    "    q1 = np.percentile(data, 25)\n",
    "\n",
    "    # Calculate the third quartile (Q3)\n",
    "    q3 = np.percentile(data, 75)\n",
    "\n",
    "    # Calculate the interquartile range (IQR)\n",
    "    iqr = q3 - q1\n",
    "\n",
    "    return iqr\n",
    "\n",
    "# Given customer age data\n",
    "age_data = [25, 30, 35, 40, 45, 50, 55, 60, 65, 70]\n",
    "\n",
    "# Calculate the interquartile range (IQR) of the ages\n",
    "iqr_age = calculate_iqr(age_data)\n",
    "\n",
    "# Display the result\n",
    "print(\"Interquartile Range (IQR) of Ages:\", iqr_age)\n"
   ]
  },
  {
   "cell_type": "code",
   "execution_count": 28,
   "id": "de7ce1f7-20be-4001-a6cc-e867a0fbe7a7",
   "metadata": {},
   "outputs": [
    {
     "data": {
      "text/plain": [
       "17"
      ]
     },
     "execution_count": 28,
     "metadata": {},
     "output_type": "execute_result"
    }
   ],
   "source": [
    "17"
   ]
  },
  {
   "cell_type": "code",
   "execution_count": 29,
   "id": "c2b1a8bf-5372-43af-b79a-a60661593f6c",
   "metadata": {},
   "outputs": [
    {
     "name": "stdout",
     "output_type": "stream",
     "text": [
      "Kruskal-Wallis H Statistic: 9.696947935368053\n",
      "P-value: 0.007840333026249539\n"
     ]
    }
   ],
   "source": [
    "import numpy as np\n",
    "import scipy.stats as stats\n",
    "\n",
    "def perform_kruskal_wallis_test(algorithm_a_scores, algorithm_b_scores, algorithm_c_scores):\n",
    "    # Perform Kruskal-Wallis test\n",
    "    h_statistic, p_value = stats.kruskal(algorithm_a_scores, algorithm_b_scores, algorithm_c_scores)\n",
    "\n",
    "    return h_statistic, p_value\n",
    "\n",
    "# Given accuracy scores data for Algorithm A, Algorithm B, and Algorithm C\n",
    "algorithm_a_scores = [0.85, 0.80, 0.82, 0.87, 0.83]\n",
    "algorithm_b_scores = [0.78, 0.82, 0.84, 0.80, 0.79]\n",
    "algorithm_c_scores = [0.90, 0.88, 0.89, 0.86, 0.87]\n",
    "\n",
    "# Perform the Kruskal-Wallis test\n",
    "h_stat, p_value = perform_kruskal_wallis_test(algorithm_a_scores, algorithm_b_scores, algorithm_c_scores)\n",
    "\n",
    "# Display the results\n",
    "print(\"Kruskal-Wallis H Statistic:\", h_stat)\n",
    "print(\"P-value:\", p_value)\n"
   ]
  },
  {
   "cell_type": "code",
   "execution_count": 30,
   "id": "b86a9c21-38e3-4f1f-9dd1-078675c1d48e",
   "metadata": {},
   "outputs": [
    {
     "data": {
      "text/plain": [
       "18"
      ]
     },
     "execution_count": 30,
     "metadata": {},
     "output_type": "execute_result"
    }
   ],
   "source": [
    "18"
   ]
  },
  {
   "cell_type": "code",
   "execution_count": 31,
   "id": "059c29df-2da2-4711-b7b4-bfe33ed1add5",
   "metadata": {},
   "outputs": [
    {
     "data": {
      "image/png": "[encoded data removed]",
      "text/plain": [
       "<Figure size 640x480 with 1 Axes>"
      ]
     },
     "metadata": {},
     "output_type": "display_data"
    },
    {
     "name": "stdout",
     "output_type": "stream",
     "text": [
      "Slope (Regression Coefficient): -3.506097560975606\n",
      "Intercept: 136.3719512195121\n"
     ]
    }
   ],
   "source": [
    "import numpy as np\n",
    "import matplotlib.pyplot as plt\n",
    "\n",
    "def perform_simple_linear_regression(x, y):\n",
    "    # Calculate the regression coefficients (slope and intercept)\n",
    "    slope, intercept = np.polyfit(x, y, 1)\n",
    "\n",
    "    return slope, intercept\n",
    "\n",
    "# Given price data and sales data\n",
    "price = [10, 15, 12, 8, 14]\n",
    "sales = [100, 80, 90, 110, 95]\n",
    "\n",
    "# Perform simple linear regression\n",
    "slope, intercept = perform_simple_linear_regression(price, sales)\n",
    "\n",
    "# Visualize the regression line\n",
    "plt.scatter(price, sales, label='Data Points')\n",
    "plt.plot(price, [slope * p + intercept for p in price], color='red', label='Regression Line')\n",
    "plt.xlabel('Price (in dollars)')\n",
    "plt.ylabel('Sales')\n",
    "plt.legend()\n",
    "plt.grid()\n",
    "plt.show()\n",
    "\n",
    "# Display the regression coefficients\n",
    "print(\"Slope (Regression Coefficient):\", slope)\n",
    "print(\"Intercept:\", intercept)\n"
   ]
  },
  {
   "cell_type": "code",
   "execution_count": 32,
   "id": "e0a28a18-093b-48e6-bfa8-14951be60067",
   "metadata": {},
   "outputs": [
    {
     "data": {
      "text/plain": [
       "19"
      ]
     },
     "execution_count": 32,
     "metadata": {},
     "output_type": "execute_result"
    }
   ],
   "source": [
    "19"
   ]
  },
  {
   "cell_type": "code",
   "execution_count": 33,
   "id": "28dbd12d-db5f-4ef6-8f3f-11a03d9af45f",
   "metadata": {},
   "outputs": [
    {
     "name": "stdout",
     "output_type": "stream",
     "text": [
      "Standard Error of the Mean: 0.30550504633038933\n"
     ]
    }
   ],
   "source": [
    "import numpy as np\n",
    "\n",
    "def calculate_standard_error(data):\n",
    "    # Calculate the standard deviation of the data\n",
    "    std_deviation = np.std(data, ddof=1)  # ddof=1 for sample standard deviation\n",
    "\n",
    "    # Calculate the number of samples\n",
    "    num_samples = len(data)\n",
    "\n",
    "    # Calculate the standard error of the mean\n",
    "    standard_error = std_deviation / np.sqrt(num_samples)\n",
    "\n",
    "    return standard_error\n",
    "\n",
    "# Given satisfaction score data\n",
    "satisfaction_scores = [7, 8, 9, 6, 8, 7, 9, 7, 8, 7]\n",
    "\n",
    "# Calculate the standard error of the mean satisfaction score\n",
    "standard_error_of_mean = calculate_standard_error(satisfaction_scores)\n",
    "\n",
    "# Display the result\n",
    "print(\"Standard Error of the Mean:\", standard_error_of_mean)\n"
   ]
  },
  {
   "cell_type": "code",
   "execution_count": 34,
   "id": "2207b536-4a15-4069-b56a-35fad5f0d928",
   "metadata": {},
   "outputs": [
    {
     "data": {
      "text/plain": [
       "20"
      ]
     },
     "execution_count": 34,
     "metadata": {},
     "output_type": "execute_result"
    }
   ],
   "source": [
    "20"
   ]
  },
  {
   "cell_type": "code",
   "execution_count": 35,
   "id": "1827eff6-5fe2-4e20-9572-a440993c9738",
   "metadata": {},
   "outputs": [],
   "source": [
    "import numpy as np\n",
    "import pandas as pd\n",
    "import statsmodels.api as sm\n",
    "\n",
    "def perform_multiple_regression(x, y):\n",
    "    # Add a constant term to the independent variables\n",
    "    x = sm.add_constant(x)\n",
    "\n",
    "    # Fit the multiple regression model\n",
    "    model = sm.OLS(y, x).fit()\n",
    "\n",
    "    return model\n",
    "\n",
    "# Given advertising expenditure data and sales data\n"
   ]
  },
  {
   "cell_type": "code",
   "execution_count": null,
   "id": "96e429c0-021f-4fcb-ae12-2c8db42202db",
   "metadata": {},
   "outputs": [],
   "source": []
  }
 ],
 "metadata": {
  "kernelspec": {
   "display_name": "Python 3 (ipykernel)",
   "language": "python",
   "name": "python3"
  },
  "language_info": {
   "codemirror_mode": {
    "name": "ipython",
    "version": 3
   },
   "file_extension": ".py",
   "mimetype": "text/x-python",
   "name": "python",
   "nbconvert_exporter": "python",
   "pygments_lexer": "ipython3",
   "version": "3.10.8"
  }
 },
 "nbformat": 4,
 "nbformat_minor": 5
}
