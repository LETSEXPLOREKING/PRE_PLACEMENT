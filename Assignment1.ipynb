{
 "cells": [
  {
   "cell_type": "code",
   "execution_count": null,
   "id": "f9ecef4c-49b3-4992-bf65-5473a33b2c92",
   "metadata": {},
   "outputs": [],
   "source": [
    "ans-1"
   ]
  },
  {
   "cell_type": "code",
   "execution_count": 18,
   "id": "50f7a18b-57bb-4086-acd5-ef4d88959b77",
   "metadata": {},
   "outputs": [
    {
     "name": "stdout",
     "output_type": "stream",
     "text": [
      "[0, 1]\n"
     ]
    }
   ],
   "source": [
    "# ans-1\n",
    "def twoSum(nums, target):\n",
    "    hashmap = {}  # stores number: index pairs\n",
    "    for i in range(len(nums)):\n",
    "        complement = target - nums[i]\n",
    "        if complement in hashmap:\n",
    "            return [hashmap[complement], i]\n",
    "        hashmap[nums[i]] = i\n",
    "    return []  # no valid indices found\n",
    "\n",
    "# Example usage\n",
    "nums = [2, 7, 11, 15]\n",
    "target = 9\n",
    "result = twoSum(nums, target)\n",
    "print(result)  # Output: [0, 1]\n"
   ]
  },
  {
   "cell_type": "code",
   "execution_count": null,
   "id": "302e33eb-0238-48ea-b9c0-dd89aef8939d",
   "metadata": {},
   "outputs": [],
   "source": [
    "Ans-2"
   ]
  },
  {
   "cell_type": "code",
   "execution_count": 27,
   "id": "1b922c04-4634-427c-a0a1-41849e46bcce",
   "metadata": {},
   "outputs": [
    {
     "name": "stdout",
     "output_type": "stream",
     "text": [
      "2\n",
      "[2, 2, ' ', ' ']\n"
     ]
    }
   ],
   "source": [
    "# ans-2\n",
    "def removeElement(nums, target): \n",
    "\n",
    "    p=0\n",
    "    for i in range(len(nums)):\n",
    "        if nums[i]==target:\n",
    "            nums[i]=\" \"\n",
    "          \n",
    "        else:\n",
    "            nums[i],nums[p]=nums[p],nums[i]\n",
    "            p=p+1\n",
    "           \n",
    "    return p \n",
    "\n",
    "# Example usage\n",
    "nums = [3,2, 2, 3]\n",
    "target = 3\n",
    "result = removeElement(nums, target)\n",
    "print(result)\n",
    "print(nums)\n",
    "\n"
   ]
  },
  {
   "cell_type": "code",
   "execution_count": null,
   "id": "bcf9d802-e1db-49ae-8b32-1d3b18abed37",
   "metadata": {},
   "outputs": [],
   "source": [
    "Ans-3"
   ]
  },
  {
   "cell_type": "code",
   "execution_count": 20,
   "id": "5b355798-ce4a-4ccd-9a0b-9752e8e1efe2",
   "metadata": {},
   "outputs": [
    {
     "name": "stdout",
     "output_type": "stream",
     "text": [
      "2\n"
     ]
    }
   ],
   "source": [
    "# Ans-3\n",
    "def binarysearch(nums, target):\n",
    "    start=0\n",
    "    end=len(nums)-1\n",
    "    mid=(start+end)//2\n",
    "    for i in range(len(nums)):\n",
    "        if target==nums[mid]:\n",
    "            return mid\n",
    "        elif target>nums[mid]:\n",
    "            start=mid+1\n",
    "            mid=(start+end)//2\n",
    "        elif target<nums[mid]:\n",
    "            end=mid-1\n",
    "            mid=(start+end)//2\n",
    "\n",
    "# Example usage\n",
    "nums = [1,3,5,6]\n",
    "target = 5\n",
    "\n",
    "result = binarysearch(nums, target)\n",
    "print(result)  \n"
   ]
  },
  {
   "cell_type": "code",
   "execution_count": null,
   "id": "42f65799-8d44-49cd-bf16-dfdc4195a2b6",
   "metadata": {},
   "outputs": [],
   "source": [
    "Ans-4"
   ]
  },
  {
   "cell_type": "code",
   "execution_count": 29,
   "id": "77bbef19-9c71-4393-880d-b396c11af8a6",
   "metadata": {},
   "outputs": [
    {
     "name": "stdout",
     "output_type": "stream",
     "text": [
      "[1, 2, 4]\n"
     ]
    }
   ],
   "source": [
    "# Ans-4\n",
    "def Increment(nums):\n",
    "    for i in range(len(nums)):\n",
    "        if nums[len(nums)-1-i]<9:\n",
    "            nums[len(nums)-1-i]=nums[len(nums)-1]+1\n",
    "            return \n",
    "        else:\n",
    "            nums[len(nums)-1-i]=0\n",
    "    nums.insert(0,1)\n",
    "    \n",
    "         \n",
    "# Example usage\n",
    "nums = [1,2,3]\n",
    "Increment(nums)\n",
    "print(nums)  \n"
   ]
  },
  {
   "cell_type": "code",
   "execution_count": null,
   "id": "49b9b43e-9d54-4841-82f0-583661a0e3f3",
   "metadata": {},
   "outputs": [],
   "source": [
    "Ans-5"
   ]
  },
  {
   "cell_type": "code",
   "execution_count": 30,
   "id": "b0324ec7-a0d1-4bc6-b891-9be761dab332",
   "metadata": {},
   "outputs": [
    {
     "name": "stdout",
     "output_type": "stream",
     "text": [
      "[1, 2, 2, 3, 5, 6]\n"
     ]
    }
   ],
   "source": [
    "# Ans-5\n",
    "def merge(nums1, m, nums2, n):\n",
    "    # Initialize pointers for nums1, nums2, and merged array\n",
    "    p1 = m - 1\n",
    "    p2 = n - 1\n",
    "    p = m + n - 1\n",
    "\n",
    "    # Compare elements from both arrays and place the larger element at the end of nums1\n",
    "    while p1 >= 0 and p2 >= 0:\n",
    "        if nums1[p1] > nums2[p2]:\n",
    "            nums1[p] = nums1[p1]\n",
    "            p1 -= 1\n",
    "        else:\n",
    "            nums1[p] = nums2[p2]\n",
    "            p2 -= 1\n",
    "        p -= 1\n",
    "\n",
    "    # If there are remaining elements in nums2, copy them to nums1\n",
    "    while p2 >= 0:\n",
    "        nums1[p] = nums2[p2]\n",
    "        p2 -= 1\n",
    "        p -= 1\n",
    "nums1 = [1, 2, 3, 0, 0, 0]\n",
    "m = 3\n",
    "nums2 = [2, 5, 6]\n",
    "n = 3\n",
    "\n",
    "merge(nums1, m, nums2, n)\n",
    "print(nums1)\n"
   ]
  },
  {
   "cell_type": "code",
   "execution_count": null,
   "id": "b1f0a76a-64dd-4ea8-a4ac-53d08b992492",
   "metadata": {},
   "outputs": [],
   "source": [
    "Ans-6"
   ]
  },
  {
   "cell_type": "code",
   "execution_count": 32,
   "id": "56e95abd-d6c0-4316-b3b6-5a3ba145e82d",
   "metadata": {},
   "outputs": [
    {
     "name": "stdout",
     "output_type": "stream",
     "text": [
      "true\n"
     ]
    }
   ],
   "source": [
    "# Ans-6\n",
    "def distinct(nums):\n",
    "    nums.sort()\n",
    "    if len(nums)==1:\n",
    "        return \"false\"\n",
    "    for i in range(len(nums)-1):\n",
    "        if nums[i]==nums[i+1]:\n",
    "            return \"true\"\n",
    "    return \"false\"\n",
    "        \n",
    "# Example usage\n",
    "nums = [1,2,3,1]\n",
    "\n",
    "\n",
    "a=distinct(nums)\n",
    "print(a)  "
   ]
  },
  {
   "cell_type": "code",
   "execution_count": null,
   "id": "ee817a18-b63e-4c00-8d13-70a32c39fda8",
   "metadata": {},
   "outputs": [],
   "source": [
    "Ans-7"
   ]
  },
  {
   "cell_type": "code",
   "execution_count": 33,
   "id": "425c5c32-543f-4ef8-be86-92d7c96251c5",
   "metadata": {},
   "outputs": [
    {
     "name": "stdout",
     "output_type": "stream",
     "text": [
      "[1, 3, 12, 0, 0]\n"
     ]
    }
   ],
   "source": [
    "# Ans-7# Ans-7\n",
    "def move_all(nums):\n",
    "    count=0\n",
    "    for i in range(len(nums)):\n",
    "        if count>0 and nums[i]!=0:\n",
    "            nums[i-count],nums[i]=nums[i],nums[i-count]\n",
    "            count=count-1\n",
    "        if nums[i]==0:\n",
    "            count=count+1\n",
    "\n",
    "\n",
    "# Example usage\n",
    "nums = [0,1,0,3,12]\n",
    "\n",
    "\n",
    "move_all(nums)\n",
    "print(nums) "
   ]
  },
  {
   "cell_type": "code",
   "execution_count": null,
   "id": "e4a49c68-4a9d-4453-a089-31414ef6e82d",
   "metadata": {},
   "outputs": [],
   "source": [
    "Ans-8"
   ]
  },
  {
   "cell_type": "code",
   "execution_count": 31,
   "id": "65a50c84-7f0e-4711-9e2d-ff614d859adf",
   "metadata": {},
   "outputs": [
    {
     "name": "stdout",
     "output_type": "stream",
     "text": [
      "[2, 3]\n"
     ]
    }
   ],
   "source": [
    "# Ans-8\n",
    "def distinct(nums):\n",
    "    l=[]\n",
    "    for i in range(len(nums)):\n",
    "        if nums[i]!=i+1:\n",
    "            l.append(nums[i])\n",
    "            l.append(i+1)\n",
    "            return l\n",
    "\n",
    "        \n",
    "# Example usage\n",
    "nums = [1,2,2,4]\n",
    "\n",
    "\n",
    "a=distinct(nums)\n",
    "print(a) "
   ]
  },
  {
   "cell_type": "code",
   "execution_count": null,
   "id": "14e96ba7-9623-407f-80cc-b64b7801b021",
   "metadata": {},
   "outputs": [],
   "source": []
  }
 ],
 "metadata": {
  "kernelspec": {
   "display_name": "Python 3 (ipykernel)",
   "language": "python",
   "name": "python3"
  },
  "language_info": {
   "codemirror_mode": {
    "name": "ipython",
    "version": 3
   },
   "file_extension": ".py",
   "mimetype": "text/x-python",
   "name": "python",
   "nbconvert_exporter": "python",
   "pygments_lexer": "ipython3",
   "version": "3.10.8"
  }
 },
 "nbformat": 4,
 "nbformat_minor": 5
}
