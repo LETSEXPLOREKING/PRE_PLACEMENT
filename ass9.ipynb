{
 "cells": [
  {
   "cell_type": "code",
   "execution_count": 2,
   "id": "d1af1bcd-fc17-4bb7-91ed-b863cfe322a8",
   "metadata": {},
   "outputs": [],
   "source": [
    "# Given a 1-indexed array of integers numbers that are already sorted in non-decreasing order, find two numbers such that they add up to a specific target number. Let these two numbers be numbers[index1] and numbers[index2] where 1 <= index1 < index2 < numbers.length.\n",
    "# Return the indices of the two numbers, index1, and index2, added by one as an integer array [index1, index2] of length 2.\n",
    "# The tests are generated such that there is exactly one solution. You may not use the same element twice.\n",
    "# Your solution must use only constant extra space.\n",
    "# Input: numbers = [2,7,11,15], target = 9\n",
    "# Output: [1,2]\n",
    "# Explanation: The sum of 2 and 7 is 9. Therefore, index1 = 1, index2 = 2. We return [1, 2].\n"
   ]
  },
  {
   "cell_type": "code",
   "execution_count": 3,
   "id": "c602c2ae-b227-4f20-a91b-49dcc6e6aec9",
   "metadata": {},
   "outputs": [
    {
     "name": "stdout",
     "output_type": "stream",
     "text": [
      "[1, 2]\n"
     ]
    }
   ],
   "source": [
    "def two_sum(numbers, target):\n",
    "    left, right = 0, len(numbers) - 1\n",
    "\n",
    "    while left < right:\n",
    "        sum_two_numbers = numbers[left] + numbers[right]\n",
    "\n",
    "        if sum_two_numbers == target:\n",
    "            return [left + 1, right + 1]  # Adding one to make it 1-indexed\n",
    "        elif sum_two_numbers < target:\n",
    "            left += 1\n",
    "        else:\n",
    "            right -= 1\n",
    "\n",
    "    # If no solution is found, an empty array is returned\n",
    "    return []\n",
    "numbers = [2, 7, 11, 15]\n",
    "target = 9\n",
    "output = two_sum(numbers, target)\n",
    "print(output)  # Output: [1, 2]\n"
   ]
  },
  {
   "cell_type": "code",
   "execution_count": 4,
   "id": "2783d1f0-cead-4bc0-b082-8665663f43c8",
   "metadata": {},
   "outputs": [],
   "source": [
    "# Given an array of integer nums sorted in non-decreasing order, find the starting and ending position of a given target value.\n",
    "# If the target is not found in the array, return [-1, -1].\n",
    "# You must write an algorithm with O(log n) runtime complexity\n",
    "# Input: nums = [5,7,7,8,8,10], target = 8\n",
    "# Output: [3,4]\n"
   ]
  },
  {
   "cell_type": "code",
   "execution_count": 5,
   "id": "d961b417-6a38-4038-b90b-988fb324a06c",
   "metadata": {},
   "outputs": [
    {
     "name": "stdout",
     "output_type": "stream",
     "text": [
      "[3, 4]\n"
     ]
    }
   ],
   "source": [
    "def find_target_range(nums, target):\n",
    "    def find_leftmost_target(nums, target):\n",
    "        left, right = 0, len(nums) - 1\n",
    "        result = -1\n",
    "\n",
    "        while left <= right:\n",
    "            mid = left + (right - left) // 2\n",
    "\n",
    "            if nums[mid] >= target:\n",
    "                right = mid - 1\n",
    "            else:\n",
    "                left = mid + 1\n",
    "\n",
    "            if nums[mid] == target:\n",
    "                result = mid\n",
    "\n",
    "        return result\n",
    "\n",
    "    def find_rightmost_target(nums, target):\n",
    "        left, right = 0, len(nums) - 1\n",
    "        result = -1\n",
    "\n",
    "        while left <= right:\n",
    "            mid = left + (right - left) // 2\n",
    "\n",
    "            if nums[mid] <= target:\n",
    "                left = mid + 1\n",
    "            else:\n",
    "                right = mid - 1\n",
    "\n",
    "            if nums[mid] == target:\n",
    "                result = mid\n",
    "\n",
    "        return result\n",
    "\n",
    "    leftmost = find_leftmost_target(nums, target)\n",
    "    rightmost = find_rightmost_target(nums, target)\n",
    "\n",
    "    return [leftmost, rightmost]\n",
    "\n",
    "# Test the function with the given input\n",
    "nums = [5, 7, 7, 8, 8, 10]\n",
    "target = 8\n",
    "output = find_target_range(nums, target)\n",
    "print(output)  # Output: [3, 4]\n"
   ]
  },
  {
   "cell_type": "code",
   "execution_count": null,
   "id": "d337a92e-7d8c-4936-b7a6-4db7116ea251",
   "metadata": {},
   "outputs": [],
   "source": [
    "A peak element is an element that is strictly greater than its neighbors.\n",
    "Given a 0-indexed integer array nums, find a peak element, and return its index. If the array contains multiple peaks, return the index to any of the peaks.\n",
    "You may imagine that nums[-1] = nums[n] = -∞. In other words, an element is always considered to be strictly greater than a neighbor that is outside the array.\n",
    "You must write an algorithm that runs in O(log n) time.\n",
    "Input: nums = [1,2,3,1]\n",
    "Output: 2\n",
    "Explanation: 3 is a peak element and your function should return the index number 2.\n"
   ]
  },
  {
   "cell_type": "code",
   "execution_count": 6,
   "id": "7575f428-c08e-4de4-a31b-487683e3be33",
   "metadata": {},
   "outputs": [
    {
     "name": "stdout",
     "output_type": "stream",
     "text": [
      "2\n"
     ]
    }
   ],
   "source": [
    "def find_peak_element(nums):\n",
    "    left, right = 0, len(nums) - 1\n",
    "\n",
    "    while left < right:\n",
    "        mid = left + (right - left) // 2\n",
    "\n",
    "        if nums[mid] > nums[mid + 1]:\n",
    "            right = mid\n",
    "        else:\n",
    "            left = mid + 1\n",
    "\n",
    "    return left\n",
    "\n",
    "# Test the function with the given input\n",
    "nums = [1, 2, 3, 1]\n",
    "output = find_peak_element(nums)\n",
    "print(output)  # Output: 2\n"
   ]
  },
  {
   "cell_type": "code",
   "execution_count": 7,
   "id": "1a7eb9ba-5020-494f-bf96-db2755383195",
   "metadata": {},
   "outputs": [],
   "source": [
    "# Given a sorted array of distinct integers and a target value, return the index if the target is found. If not, return the index where it would be if it were inserted in order.\n",
    "# You must write an algorithm with O(log n) runtime complexity.\n",
    "# Input: nums = [1,3,5,6], target = 5\n",
    "# Output: 2\n",
    "\n"
   ]
  },
  {
   "cell_type": "code",
   "execution_count": 8,
   "id": "aadd2f07-c830-41f7-b2f1-9d36f74a3bef",
   "metadata": {},
   "outputs": [
    {
     "name": "stdout",
     "output_type": "stream",
     "text": [
      "2\n"
     ]
    }
   ],
   "source": [
    "def search_insert(nums, target):\n",
    "    left, right = 0, len(nums) - 1\n",
    "\n",
    "    while left <= right:\n",
    "        mid = left + (right - left) // 2\n",
    "\n",
    "        if nums[mid] == target:\n",
    "            return mid\n",
    "        elif nums[mid] < target:\n",
    "            left = mid + 1\n",
    "        else:\n",
    "            right = mid - 1\n",
    "\n",
    "    return left\n",
    "\n",
    "# Test the function with the given input\n",
    "nums = [1, 3, 5, 6]\n",
    "target = 5\n",
    "output = search_insert(nums, target)\n",
    "print(output)  # Output: 2\n"
   ]
  },
  {
   "cell_type": "code",
   "execution_count": null,
   "id": "f3fd0499-feee-4b5d-a156-58407c873639",
   "metadata": {},
   "outputs": [],
   "source": [
    "Find the majority element in the array. A majority element in an array A[] of size n is an element that appears more than n/2 times (and hence there is at most one such element). \n",
    "Input: A[]={3, 3, 4, 2, 4, 4, 2, 4, 4}\n",
    "Output: 4\n",
    "Explanation: The frequency of 4 is 5 which is greater than half of the size of the array size."
   ]
  },
  {
   "cell_type": "code",
   "execution_count": 9,
   "id": "ac17463b-e96c-4653-94cb-cb9ae65d40f5",
   "metadata": {},
   "outputs": [
    {
     "name": "stdout",
     "output_type": "stream",
     "text": [
      "4\n"
     ]
    }
   ],
   "source": [
    "def majority_element(nums):\n",
    "    count = 0\n",
    "    candidate = None\n",
    "\n",
    "    for num in nums:\n",
    "        if count == 0:\n",
    "            candidate = num\n",
    "            count = 1\n",
    "        elif num == candidate:\n",
    "            count += 1\n",
    "        else:\n",
    "            count -= 1\n",
    "\n",
    "    return candidate\n",
    "\n",
    "# Test the function with the given input\n",
    "A = [3, 3, 4, 2, 4, 4, 2, 4, 4]\n",
    "output = majority_element(A)\n",
    "print(output)  # Output: 4\n"
   ]
  },
  {
   "cell_type": "code",
   "execution_count": null,
   "id": "2e1664c4-adaa-4efb-a29b-6c4c33753c9e",
   "metadata": {},
   "outputs": [],
   "source": [
    "You are a product manager and currently leading a team to develop a new product. Unfortunately, the latest version of your product fails the quality check. Since each version is developed based on the previous version, all the versions after a bad version are also bad.\n",
    "Suppose you have n versions [1, 2, ..., n] and you want to find out the first bad one, which causes all the following ones to be bad.\n",
    "You are given an API bool isBadVersion(version) which returns whether the version is bad. Implement a function to find the first bad version. You should minimize the number of calls to the API.\n",
    "Input: n = 5, bad = 4\n",
    "Output: 4"
   ]
  },
  {
   "cell_type": "code",
   "execution_count": 10,
   "id": "87655571-1102-471e-8bee-2bb9e9585f46",
   "metadata": {},
   "outputs": [
    {
     "name": "stdout",
     "output_type": "stream",
     "text": [
      "4\n"
     ]
    }
   ],
   "source": [
    "def first_bad_version(n):\n",
    "    left, right = 1, n\n",
    "\n",
    "    while left < right:\n",
    "        mid = left + (right - left) // 2\n",
    "\n",
    "        if isBadVersion(mid):\n",
    "            right = mid\n",
    "        else:\n",
    "            left = mid + 1\n",
    "\n",
    "    return left\n",
    "\n",
    "# This is just a mock implementation of the isBadVersion API\n",
    "def isBadVersion(version):\n",
    "    return version >= 4\n",
    "\n",
    "# Test the function with the given input\n",
    "n = 5\n",
    "output = first_bad_version(n)\n",
    "print(output)  # Output: 4\n"
   ]
  },
  {
   "cell_type": "code",
   "execution_count": null,
   "id": "9332b69d-7672-4d10-977f-fcddbc266a17",
   "metadata": {},
   "outputs": [],
   "source": [
    "Given an array of integers, find the inversion of an array. Formally, two elements a[i] and a[j] form an inversion if a[i] > a[j] and i < j.\n",
    "N=5, arr[] = {2, 4, 1, 3, 5}\n",
    "Output: 3\n",
    "Explanation: (2,1) (4,1) and (4,3) forms an inversion in an array"
   ]
  },
  {
   "cell_type": "code",
   "execution_count": 11,
   "id": "6fc045bd-efc8-4302-aadf-5b0cd37639a4",
   "metadata": {},
   "outputs": [
    {
     "name": "stdout",
     "output_type": "stream",
     "text": [
      "3\n"
     ]
    }
   ],
   "source": [
    "def count_inversions(arr):\n",
    "    def merge(left, right):\n",
    "        merged = []\n",
    "        count = 0\n",
    "        i, j = 0, 0\n",
    "\n",
    "        while i < len(left) and j < len(right):\n",
    "            if left[i] <= right[j]:\n",
    "                merged.append(left[i])\n",
    "                i += 1\n",
    "            else:\n",
    "                merged.append(right[j])\n",
    "                j += 1\n",
    "                count += len(left) - i\n",
    "\n",
    "        merged.extend(left[i:])\n",
    "        merged.extend(right[j:])\n",
    "        return merged, count\n",
    "\n",
    "    def merge_sort(arr):\n",
    "        if len(arr) <= 1:\n",
    "            return arr, 0\n",
    "\n",
    "        mid = len(arr) // 2\n",
    "        left, count_left = merge_sort(arr[:mid])\n",
    "        right, count_right = merge_sort(arr[mid:])\n",
    "        merged, count_merge = merge(left, right)\n",
    "\n",
    "        return merged, count_left + count_right + count_merge\n",
    "\n",
    "    _, count = merge_sort(arr)\n",
    "    return count\n",
    "\n",
    "# Test the function with the given input\n",
    "arr = [2, 4, 1, 3, 5]\n",
    "output = count_inversions(arr)\n",
    "print(output)  # Output: 3\n"
   ]
  },
  {
   "cell_type": "code",
   "execution_count": null,
   "id": "82c264aa-19c4-4bf2-9c7a-b4cc98efe136",
   "metadata": {},
   "outputs": [],
   "source": [
    "Given three arrays sorted in non-decreasing order, print all common elements in these arrays.\n",
    "ar1[] = {1, 5, 10, 20, 40, 80} \n",
    "ar2[] = {6, 7, 20, 80, 100} \n",
    "ar3[] = {3, 4, 15, 20, 30, 70, 80, 120} \n",
    "Output: 20, 80\n"
   ]
  },
  {
   "cell_type": "code",
   "execution_count": 12,
   "id": "40b20353-cdca-4773-b532-53207525529d",
   "metadata": {},
   "outputs": [
    {
     "name": "stdout",
     "output_type": "stream",
     "text": [
      "[20, 80]\n"
     ]
    }
   ],
   "source": [
    "def find_common_elements(ar1, ar2, ar3):\n",
    "    common_elements = []\n",
    "    i, j, k = 0, 0, 0\n",
    "\n",
    "    while i < len(ar1) and j < len(ar2) and k < len(ar3):\n",
    "        if ar1[i] == ar2[j] == ar3[k]:\n",
    "            common_elements.append(ar1[i])\n",
    "            i += 1\n",
    "            j += 1\n",
    "            k += 1\n",
    "        elif ar1[i] <= ar2[j] and ar1[i] <= ar3[k]:\n",
    "            i += 1\n",
    "        elif ar2[j] <= ar1[i] and ar2[j] <= ar3[k]:\n",
    "            j += 1\n",
    "        else:\n",
    "            k += 1\n",
    "\n",
    "    return common_elements\n",
    "\n",
    "# Test the function with the given input\n",
    "ar1 = [1, 5, 10, 20, 40, 80]\n",
    "ar2 = [6, 7, 20, 80, 100]\n",
    "ar3 = [3, 4, 15, 20, 30, 70, 80, 120]\n",
    "output = find_common_elements(ar1, ar2, ar3)\n",
    "print(output)  # Output: [20, 80]\n"
   ]
  },
  {
   "cell_type": "code",
   "execution_count": null,
   "id": "9e309957-718d-4acb-8d9b-dc5ba8c30ae0",
   "metadata": {},
   "outputs": [],
   "source": []
  }
 ],
 "metadata": {
  "kernelspec": {
   "display_name": "Python 3 (ipykernel)",
   "language": "python",
   "name": "python3"
  },
  "language_info": {
   "codemirror_mode": {
    "name": "ipython",
    "version": 3
   },
   "file_extension": ".py",
   "mimetype": "text/x-python",
   "name": "python",
   "nbconvert_exporter": "python",
   "pygments_lexer": "ipython3",
   "version": "3.10.8"
  }
 },
 "nbformat": 4,
 "nbformat_minor": 5
}
