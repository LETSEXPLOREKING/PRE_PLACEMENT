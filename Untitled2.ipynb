{
 "cells": [
  {
   "cell_type": "code",
   "execution_count": null,
   "id": "78cb541a-4adf-4553-b11d-83b45551ea99",
   "metadata": {},
   "outputs": [],
   "source": [
    "def firstUniqChar(s):\n",
    "    # Count the occurrences of each character using a hashmap\n",
    "    dic = {}\n",
    "    for i in s:\n",
    "        # key,value=i,s.count(i)\n",
    "        # dic[key] = value\n",
    "        dic[i] = dic.get(i, 0) +1\n",
    "\n",
    "    # Find the first non-repeating character and return its index\n",
    "    for k, i in enumerate(s):\n",
    "        if dic[i] == 1:\n",
    "            return k\n",
    "\n",
    "    # If no non-repeating character is found, return -1\n",
    "    return -1\n",
    "s1 = \"leetcode\"\n",
    "print(firstUniqChar(s1))  # Output: 0\n",
    "\n",
    "s2 = \"loveleetcode\"\n",
    "print(firstUniqChar(s2))  # Output: 2\n",
    "\n",
    "s3 = \"aabb\"\n",
    "print(firstUniqChar(s3))  # Output: -1\n"
   ]
  }
 ],
 "metadata": {
  "kernelspec": {
   "display_name": "Python 3 (ipykernel)",
   "language": "python",
   "name": "python3"
  },
  "language_info": {
   "codemirror_mode": {
    "name": "ipython",
    "version": 3
   },
   "file_extension": ".py",
   "mimetype": "text/x-python",
   "name": "python",
   "nbconvert_exporter": "python",
   "pygments_lexer": "ipython3",
   "version": "3.10.8"
  }
 },
 "nbformat": 4,
 "nbformat_minor": 5
}
