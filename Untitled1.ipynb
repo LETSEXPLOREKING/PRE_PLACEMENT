{
 "cells": [
  {
   "cell_type": "code",
   "execution_count": 1,
   "id": "99bf774d-3ffb-42ee-ad2b-52a97b1aa8f6",
   "metadata": {},
   "outputs": [
    {
     "name": "stdout",
     "output_type": "stream",
     "text": [
      "[1, 3, 12, 0, 0] case 1\n",
      "[0] case 2\n"
     ]
    }
   ],
   "source": [
    "def move_all(nums):\n",
    "    count=0\n",
    "    for i in range(len(nums)):\n",
    "        if count>0 and nums[i]!=0:\n",
    "            nums[i-count],nums[i]=nums[i],nums[i-count]\n",
    "            count=count-1\n",
    "        if nums[i]==0:\n",
    "            count=count+1\n",
    "\n",
    "\n",
    "# Example usage\n",
    "nums = [0,1,0,3,12]\n",
    "\n",
    "\n",
    "move_all(nums)\n",
    "print(nums,\"case 1\")\n",
    "nums=[0]\n",
    "move_all(nums)\n",
    "print(nums,\"case 2\")\n",
    " \n",
    " "
   ]
  },
  {
   "cell_type": "code",
   "execution_count": null,
   "id": "7c5c5391-099b-4672-a6f4-4e5e6b21f17c",
   "metadata": {},
   "outputs": [],
   "source": []
  }
 ],
 "metadata": {
  "kernelspec": {
   "display_name": "Python 3 (ipykernel)",
   "language": "python",
   "name": "python3"
  },
  "language_info": {
   "codemirror_mode": {
    "name": "ipython",
    "version": 3
   },
   "file_extension": ".py",
   "mimetype": "text/x-python",
   "name": "python",
   "nbconvert_exporter": "python",
   "pygments_lexer": "ipython3",
   "version": "3.10.8"
  }
 },
 "nbformat": 4,
 "nbformat_minor": 5
}
